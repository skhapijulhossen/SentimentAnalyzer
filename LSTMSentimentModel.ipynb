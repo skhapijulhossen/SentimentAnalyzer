{
  "nbformat": 4,
  "nbformat_minor": 0,
  "metadata": {
    "colab": {
      "provenance": []
    },
    "kernelspec": {
      "name": "python3",
      "display_name": "Python 3"
    },
    "language_info": {
      "name": "python"
    },
    "accelerator": "GPU",
    "gpuClass": "standard"
  },
  "cells": [
    {
      "cell_type": "code",
      "execution_count": 2,
      "metadata": {
        "colab": {
          "base_uri": "https://localhost:8080/"
        },
        "id": "8yW6FOkkLywE",
        "outputId": "3406c821-0c4b-44f4-b616-cb09967c8ec2"
      },
      "outputs": [
        {
          "output_type": "stream",
          "name": "stdout",
          "text": [
            "Mounted at /content/drive\n"
          ]
        }
      ],
      "source": [
        "from google.colab import drive\n",
        "drive.mount('/content/drive')"
      ]
    },
    {
      "cell_type": "code",
      "source": [
        "import numpy as np\n",
        "import pandas as pd\n",
        "import tensorflow as tf\n",
        "from tensorflow.keras.layers import Embedding, Bidirectional, LSTM, BatchNormalization, Dense, Dropout\n",
        "from tensorflow.keras.callbacks import EarlyStopping"
      ],
      "metadata": {
        "id": "X2oZeesMMerK"
      },
      "execution_count": 26,
      "outputs": []
    },
    {
      "cell_type": "code",
      "source": [
        "import seaborn as sns\n",
        "import matplotlib.pyplot as plt"
      ],
      "metadata": {
        "id": "FDXI88nEPMAm"
      },
      "execution_count": 41,
      "outputs": []
    },
    {
      "cell_type": "markdown",
      "source": [
        "# Load data"
      ],
      "metadata": {
        "id": "PGmWxL3yj5zt"
      }
    },
    {
      "cell_type": "code",
      "source": [
        "data = pd.read_csv(\n",
        "    \"/content/drive/MyDrive/Colab Notebooks/amazon/FshionProductReviews_V3.csv\",\n",
        ")\n",
        "data.info()"
      ],
      "metadata": {
        "id": "lAZIfyeWMhcY",
        "colab": {
          "base_uri": "https://localhost:8080/"
        },
        "outputId": "4e26ad27-138c-4da9-8e16-945e6f8b9d5d"
      },
      "execution_count": 36,
      "outputs": [
        {
          "output_type": "stream",
          "name": "stdout",
          "text": [
            "<class 'pandas.core.frame.DataFrame'>\n",
            "RangeIndex: 658184 entries, 0 to 658183\n",
            "Data columns (total 6 columns):\n",
            " #   Column      Non-Null Count   Dtype \n",
            "---  ------      --------------   ----- \n",
            " 0   overall     658184 non-null  int64 \n",
            " 1   verified    658184 non-null  bool  \n",
            " 2   reviewTime  658184 non-null  object\n",
            " 3   reviewText  658183 non-null  object\n",
            " 4   summary     658181 non-null  object\n",
            " 5   length      658184 non-null  int64 \n",
            "dtypes: bool(1), int64(2), object(3)\n",
            "memory usage: 25.7+ MB\n"
          ]
        }
      ]
    },
    {
      "cell_type": "code",
      "source": [
        "positive = data[data.overall > 3].head(40000)\n",
        "negetive = data[data.overall < 4].head(40000)"
      ],
      "metadata": {
        "id": "ZHoqXKWxny8Q"
      },
      "execution_count": 5,
      "outputs": []
    },
    {
      "cell_type": "code",
      "source": [
        "trainset = pd.concat([positive, negetive])\n",
        "trainset"
      ],
      "metadata": {
        "colab": {
          "base_uri": "https://localhost:8080/",
          "height": 423
        },
        "id": "6_yYpLPUmSVW",
        "outputId": "aba4f7fb-0554-46d2-cd61-d1e3b7cebbe9"
      },
      "execution_count": 6,
      "outputs": [
        {
          "output_type": "execute_result",
          "data": {
            "text/plain": [
              "        overall  verified  reviewTime  \\\n",
              "2             4      True  2014-05-31   \n",
              "5             4      True  2013-03-09   \n",
              "10            5      True  2017-10-24   \n",
              "13            4      True  2017-07-02   \n",
              "14            5      True  2017-06-27   \n",
              "...         ...       ...         ...   \n",
              "149478        3      True  2015-01-19   \n",
              "149486        2      True  2015-01-17   \n",
              "149488        3      True  2015-01-08   \n",
              "149490        2      True  2016-04-25   \n",
              "149492        2      True  2016-03-08   \n",
              "\n",
              "                                               reviewText  \\\n",
              "2       These little plastic backs work great.  No mor...   \n",
              "5       This brand has been around a long time and you...   \n",
              "10      I love it it is just what I was looking for th...   \n",
              "13      Wonderful item. I have purchased several of th...   \n",
              "14      I just love it! I think this is my six or seve...   \n",
              "...                                                   ...   \n",
              "149478                       You get what you pay for ;).   \n",
              "149486                              Did not fit properly!   \n",
              "149488  Looks just like picture a little bigger than w...   \n",
              "149490  This product runs very short in the abdominal ...   \n",
              "149492            Way big it hardly stays on my shoulders   \n",
              "\n",
              "                                     summary  length  \n",
              "2                               Works great!      28  \n",
              "5                            BUXTON QUALITY!      26  \n",
              "10      Perfect just what I was looking for!      13  \n",
              "13                              Made to last      27  \n",
              "14                                  LOVE IT!      33  \n",
              "...                                      ...     ...  \n",
              "149478                           Three Stars       7  \n",
              "149486                             Two Stars       4  \n",
              "149488                           Three Stars      14  \n",
              "149490                             Two Stars       9  \n",
              "149492                             Two Stars       8  \n",
              "\n",
              "[80000 rows x 6 columns]"
            ],
            "text/html": [
              "\n",
              "\n",
              "  <div id=\"df-6d867df3-aedd-4803-b72b-8d9864080e69\">\n",
              "    <div class=\"colab-df-container\">\n",
              "      <div>\n",
              "<style scoped>\n",
              "    .dataframe tbody tr th:only-of-type {\n",
              "        vertical-align: middle;\n",
              "    }\n",
              "\n",
              "    .dataframe tbody tr th {\n",
              "        vertical-align: top;\n",
              "    }\n",
              "\n",
              "    .dataframe thead th {\n",
              "        text-align: right;\n",
              "    }\n",
              "</style>\n",
              "<table border=\"1\" class=\"dataframe\">\n",
              "  <thead>\n",
              "    <tr style=\"text-align: right;\">\n",
              "      <th></th>\n",
              "      <th>overall</th>\n",
              "      <th>verified</th>\n",
              "      <th>reviewTime</th>\n",
              "      <th>reviewText</th>\n",
              "      <th>summary</th>\n",
              "      <th>length</th>\n",
              "    </tr>\n",
              "  </thead>\n",
              "  <tbody>\n",
              "    <tr>\n",
              "      <th>2</th>\n",
              "      <td>4</td>\n",
              "      <td>True</td>\n",
              "      <td>2014-05-31</td>\n",
              "      <td>These little plastic backs work great.  No mor...</td>\n",
              "      <td>Works great!</td>\n",
              "      <td>28</td>\n",
              "    </tr>\n",
              "    <tr>\n",
              "      <th>5</th>\n",
              "      <td>4</td>\n",
              "      <td>True</td>\n",
              "      <td>2013-03-09</td>\n",
              "      <td>This brand has been around a long time and you...</td>\n",
              "      <td>BUXTON QUALITY!</td>\n",
              "      <td>26</td>\n",
              "    </tr>\n",
              "    <tr>\n",
              "      <th>10</th>\n",
              "      <td>5</td>\n",
              "      <td>True</td>\n",
              "      <td>2017-10-24</td>\n",
              "      <td>I love it it is just what I was looking for th...</td>\n",
              "      <td>Perfect just what I was looking for!</td>\n",
              "      <td>13</td>\n",
              "    </tr>\n",
              "    <tr>\n",
              "      <th>13</th>\n",
              "      <td>4</td>\n",
              "      <td>True</td>\n",
              "      <td>2017-07-02</td>\n",
              "      <td>Wonderful item. I have purchased several of th...</td>\n",
              "      <td>Made to last</td>\n",
              "      <td>27</td>\n",
              "    </tr>\n",
              "    <tr>\n",
              "      <th>14</th>\n",
              "      <td>5</td>\n",
              "      <td>True</td>\n",
              "      <td>2017-06-27</td>\n",
              "      <td>I just love it! I think this is my six or seve...</td>\n",
              "      <td>LOVE IT!</td>\n",
              "      <td>33</td>\n",
              "    </tr>\n",
              "    <tr>\n",
              "      <th>...</th>\n",
              "      <td>...</td>\n",
              "      <td>...</td>\n",
              "      <td>...</td>\n",
              "      <td>...</td>\n",
              "      <td>...</td>\n",
              "      <td>...</td>\n",
              "    </tr>\n",
              "    <tr>\n",
              "      <th>149478</th>\n",
              "      <td>3</td>\n",
              "      <td>True</td>\n",
              "      <td>2015-01-19</td>\n",
              "      <td>You get what you pay for ;).</td>\n",
              "      <td>Three Stars</td>\n",
              "      <td>7</td>\n",
              "    </tr>\n",
              "    <tr>\n",
              "      <th>149486</th>\n",
              "      <td>2</td>\n",
              "      <td>True</td>\n",
              "      <td>2015-01-17</td>\n",
              "      <td>Did not fit properly!</td>\n",
              "      <td>Two Stars</td>\n",
              "      <td>4</td>\n",
              "    </tr>\n",
              "    <tr>\n",
              "      <th>149488</th>\n",
              "      <td>3</td>\n",
              "      <td>True</td>\n",
              "      <td>2015-01-08</td>\n",
              "      <td>Looks just like picture a little bigger than w...</td>\n",
              "      <td>Three Stars</td>\n",
              "      <td>14</td>\n",
              "    </tr>\n",
              "    <tr>\n",
              "      <th>149490</th>\n",
              "      <td>2</td>\n",
              "      <td>True</td>\n",
              "      <td>2016-04-25</td>\n",
              "      <td>This product runs very short in the abdominal ...</td>\n",
              "      <td>Two Stars</td>\n",
              "      <td>9</td>\n",
              "    </tr>\n",
              "    <tr>\n",
              "      <th>149492</th>\n",
              "      <td>2</td>\n",
              "      <td>True</td>\n",
              "      <td>2016-03-08</td>\n",
              "      <td>Way big it hardly stays on my shoulders</td>\n",
              "      <td>Two Stars</td>\n",
              "      <td>8</td>\n",
              "    </tr>\n",
              "  </tbody>\n",
              "</table>\n",
              "<p>80000 rows × 6 columns</p>\n",
              "</div>\n",
              "      <button class=\"colab-df-convert\" onclick=\"convertToInteractive('df-6d867df3-aedd-4803-b72b-8d9864080e69')\"\n",
              "              title=\"Convert this dataframe to an interactive table.\"\n",
              "              style=\"display:none;\">\n",
              "\n",
              "  <svg xmlns=\"http://www.w3.org/2000/svg\" height=\"24px\"viewBox=\"0 0 24 24\"\n",
              "       width=\"24px\">\n",
              "    <path d=\"M0 0h24v24H0V0z\" fill=\"none\"/>\n",
              "    <path d=\"M18.56 5.44l.94 2.06.94-2.06 2.06-.94-2.06-.94-.94-2.06-.94 2.06-2.06.94zm-11 1L8.5 8.5l.94-2.06 2.06-.94-2.06-.94L8.5 2.5l-.94 2.06-2.06.94zm10 10l.94 2.06.94-2.06 2.06-.94-2.06-.94-.94-2.06-.94 2.06-2.06.94z\"/><path d=\"M17.41 7.96l-1.37-1.37c-.4-.4-.92-.59-1.43-.59-.52 0-1.04.2-1.43.59L10.3 9.45l-7.72 7.72c-.78.78-.78 2.05 0 2.83L4 21.41c.39.39.9.59 1.41.59.51 0 1.02-.2 1.41-.59l7.78-7.78 2.81-2.81c.8-.78.8-2.07 0-2.86zM5.41 20L4 18.59l7.72-7.72 1.47 1.35L5.41 20z\"/>\n",
              "  </svg>\n",
              "      </button>\n",
              "\n",
              "\n",
              "\n",
              "    <div id=\"df-31b8fd73-1edc-459d-82e2-d2440d494c98\">\n",
              "      <button class=\"colab-df-quickchart\" onclick=\"quickchart('df-31b8fd73-1edc-459d-82e2-d2440d494c98')\"\n",
              "              title=\"Suggest charts.\"\n",
              "              style=\"display:none;\">\n",
              "\n",
              "<svg xmlns=\"http://www.w3.org/2000/svg\" height=\"24px\"viewBox=\"0 0 24 24\"\n",
              "     width=\"24px\">\n",
              "    <g>\n",
              "        <path d=\"M19 3H5c-1.1 0-2 .9-2 2v14c0 1.1.9 2 2 2h14c1.1 0 2-.9 2-2V5c0-1.1-.9-2-2-2zM9 17H7v-7h2v7zm4 0h-2V7h2v10zm4 0h-2v-4h2v4z\"/>\n",
              "    </g>\n",
              "</svg>\n",
              "      </button>\n",
              "    </div>\n",
              "\n",
              "<style>\n",
              "  .colab-df-quickchart {\n",
              "    background-color: #E8F0FE;\n",
              "    border: none;\n",
              "    border-radius: 50%;\n",
              "    cursor: pointer;\n",
              "    display: none;\n",
              "    fill: #1967D2;\n",
              "    height: 32px;\n",
              "    padding: 0 0 0 0;\n",
              "    width: 32px;\n",
              "  }\n",
              "\n",
              "  .colab-df-quickchart:hover {\n",
              "    background-color: #E2EBFA;\n",
              "    box-shadow: 0px 1px 2px rgba(60, 64, 67, 0.3), 0px 1px 3px 1px rgba(60, 64, 67, 0.15);\n",
              "    fill: #174EA6;\n",
              "  }\n",
              "\n",
              "  [theme=dark] .colab-df-quickchart {\n",
              "    background-color: #3B4455;\n",
              "    fill: #D2E3FC;\n",
              "  }\n",
              "\n",
              "  [theme=dark] .colab-df-quickchart:hover {\n",
              "    background-color: #434B5C;\n",
              "    box-shadow: 0px 1px 3px 1px rgba(0, 0, 0, 0.15);\n",
              "    filter: drop-shadow(0px 1px 2px rgba(0, 0, 0, 0.3));\n",
              "    fill: #FFFFFF;\n",
              "  }\n",
              "</style>\n",
              "\n",
              "    <script>\n",
              "      async function quickchart(key) {\n",
              "        const containerElement = document.querySelector('#' + key);\n",
              "        const charts = await google.colab.kernel.invokeFunction(\n",
              "            'suggestCharts', [key], {});\n",
              "      }\n",
              "    </script>\n",
              "\n",
              "      <script>\n",
              "\n",
              "function displayQuickchartButton(domScope) {\n",
              "  let quickchartButtonEl =\n",
              "    domScope.querySelector('#df-31b8fd73-1edc-459d-82e2-d2440d494c98 button.colab-df-quickchart');\n",
              "  quickchartButtonEl.style.display =\n",
              "    google.colab.kernel.accessAllowed ? 'block' : 'none';\n",
              "}\n",
              "\n",
              "        displayQuickchartButton(document);\n",
              "      </script>\n",
              "      <style>\n",
              "    .colab-df-container {\n",
              "      display:flex;\n",
              "      flex-wrap:wrap;\n",
              "      gap: 12px;\n",
              "    }\n",
              "\n",
              "    .colab-df-convert {\n",
              "      background-color: #E8F0FE;\n",
              "      border: none;\n",
              "      border-radius: 50%;\n",
              "      cursor: pointer;\n",
              "      display: none;\n",
              "      fill: #1967D2;\n",
              "      height: 32px;\n",
              "      padding: 0 0 0 0;\n",
              "      width: 32px;\n",
              "    }\n",
              "\n",
              "    .colab-df-convert:hover {\n",
              "      background-color: #E2EBFA;\n",
              "      box-shadow: 0px 1px 2px rgba(60, 64, 67, 0.3), 0px 1px 3px 1px rgba(60, 64, 67, 0.15);\n",
              "      fill: #174EA6;\n",
              "    }\n",
              "\n",
              "    [theme=dark] .colab-df-convert {\n",
              "      background-color: #3B4455;\n",
              "      fill: #D2E3FC;\n",
              "    }\n",
              "\n",
              "    [theme=dark] .colab-df-convert:hover {\n",
              "      background-color: #434B5C;\n",
              "      box-shadow: 0px 1px 3px 1px rgba(0, 0, 0, 0.15);\n",
              "      filter: drop-shadow(0px 1px 2px rgba(0, 0, 0, 0.3));\n",
              "      fill: #FFFFFF;\n",
              "    }\n",
              "  </style>\n",
              "\n",
              "      <script>\n",
              "        const buttonEl =\n",
              "          document.querySelector('#df-6d867df3-aedd-4803-b72b-8d9864080e69 button.colab-df-convert');\n",
              "        buttonEl.style.display =\n",
              "          google.colab.kernel.accessAllowed ? 'block' : 'none';\n",
              "\n",
              "        async function convertToInteractive(key) {\n",
              "          const element = document.querySelector('#df-6d867df3-aedd-4803-b72b-8d9864080e69');\n",
              "          const dataTable =\n",
              "            await google.colab.kernel.invokeFunction('convertToInteractive',\n",
              "                                                     [key], {});\n",
              "          if (!dataTable) return;\n",
              "\n",
              "          const docLinkHtml = 'Like what you see? Visit the ' +\n",
              "            '<a target=\"_blank\" href=https://colab.research.google.com/notebooks/data_table.ipynb>data table notebook</a>'\n",
              "            + ' to learn more about interactive tables.';\n",
              "          element.innerHTML = '';\n",
              "          dataTable['output_type'] = 'display_data';\n",
              "          await google.colab.output.renderOutput(dataTable, element);\n",
              "          const docLink = document.createElement('div');\n",
              "          docLink.innerHTML = docLinkHtml;\n",
              "          element.appendChild(docLink);\n",
              "        }\n",
              "      </script>\n",
              "    </div>\n",
              "  </div>\n"
            ]
          },
          "metadata": {},
          "execution_count": 6
        }
      ]
    },
    {
      "cell_type": "code",
      "source": [
        "testset = pd.concat([data[data.overall > 3].tail(40000), data[data.overall < 4].tail(40000)])"
      ],
      "metadata": {
        "id": "LdopPRbA6mNY"
      },
      "execution_count": 37,
      "outputs": []
    },
    {
      "cell_type": "code",
      "source": [
        "headline = trainset.reviewText.apply(\n",
        "    lambda row: str(row)\n",
        ")\n",
        "labels = trainset.overall"
      ],
      "metadata": {
        "id": "t95vLuYvO6de"
      },
      "execution_count": 7,
      "outputs": []
    },
    {
      "cell_type": "code",
      "source": [
        "labels"
      ],
      "metadata": {
        "colab": {
          "base_uri": "https://localhost:8080/"
        },
        "id": "BcgB4jexpCMA",
        "outputId": "e89329a8-04b2-4a21-fa67-573643f4d0d8"
      },
      "execution_count": 8,
      "outputs": [
        {
          "output_type": "execute_result",
          "data": {
            "text/plain": [
              "2         4\n",
              "5         4\n",
              "10        5\n",
              "13        4\n",
              "14        5\n",
              "         ..\n",
              "149478    3\n",
              "149486    2\n",
              "149488    3\n",
              "149490    2\n",
              "149492    2\n",
              "Name: overall, Length: 80000, dtype: int64"
            ]
          },
          "metadata": {},
          "execution_count": 8
        }
      ]
    },
    {
      "cell_type": "code",
      "source": [
        "labels.value_counts()"
      ],
      "metadata": {
        "colab": {
          "base_uri": "https://localhost:8080/"
        },
        "id": "nCWyWEvRlQwE",
        "outputId": "9f76eaa8-d3f6-4e85-d635-95a87fec0157"
      },
      "execution_count": 9,
      "outputs": [
        {
          "output_type": "execute_result",
          "data": {
            "text/plain": [
              "5    30857\n",
              "3    16035\n",
              "1    14070\n",
              "2     9895\n",
              "4     9143\n",
              "Name: overall, dtype: int64"
            ]
          },
          "metadata": {},
          "execution_count": 9
        }
      ]
    },
    {
      "cell_type": "markdown",
      "source": [
        "# Pre-process Labels"
      ],
      "metadata": {
        "id": "n2DhRkCekDA3"
      }
    },
    {
      "cell_type": "code",
      "source": [
        "labels[labels < 4] = 0\n",
        "labels"
      ],
      "metadata": {
        "id": "Zw5yCG88j4fP"
      },
      "execution_count": null,
      "outputs": []
    },
    {
      "cell_type": "code",
      "source": [
        "labels[labels > 3] = 1\n",
        "labels"
      ],
      "metadata": {
        "id": "wzvFaqshj4Yd"
      },
      "execution_count": null,
      "outputs": []
    },
    {
      "cell_type": "code",
      "source": [
        "labels.value_counts()"
      ],
      "metadata": {
        "colab": {
          "base_uri": "https://localhost:8080/"
        },
        "id": "PffEPE4xj4Vm",
        "outputId": "d5339dd0-c04c-4409-e4f8-453fcab5966b"
      },
      "execution_count": 13,
      "outputs": [
        {
          "output_type": "execute_result",
          "data": {
            "text/plain": [
              "1    40000\n",
              "0    40000\n",
              "Name: overall, dtype: int64"
            ]
          },
          "metadata": {},
          "execution_count": 13
        }
      ]
    },
    {
      "cell_type": "markdown",
      "source": [
        "# Split"
      ],
      "metadata": {
        "id": "6RuzNgigj9c2"
      }
    },
    {
      "cell_type": "code",
      "source": [
        "from sklearn.model_selection import train_test_split\n",
        "train_headline, val_headline, train_labels, val_labels = train_test_split(\n",
        "    headline, labels, test_size=0.3, random_state=33\n",
        ")"
      ],
      "metadata": {
        "id": "3rg2DiAQPGhX"
      },
      "execution_count": 14,
      "outputs": []
    },
    {
      "cell_type": "code",
      "source": [
        "# Encode labels\n",
        "train_labels = tf.one_hot(\n",
        "    train_labels,\n",
        "    depth=2,\n",
        "    on_value=None,\n",
        "    off_value=None,\n",
        "    axis=None,\n",
        "    dtype=None,\n",
        "    name=None\n",
        ")\n",
        "\n",
        "val_labels = tf.one_hot(\n",
        "    val_labels,\n",
        "    depth=2,\n",
        "    on_value=None,\n",
        "    off_value=None,\n",
        "    axis=None,\n",
        "    dtype=None,\n",
        "    name=None\n",
        ")"
      ],
      "metadata": {
        "id": "bjMxmLV7oTso"
      },
      "execution_count": 15,
      "outputs": []
    },
    {
      "cell_type": "code",
      "source": [
        "val_labels"
      ],
      "metadata": {
        "colab": {
          "base_uri": "https://localhost:8080/"
        },
        "id": "-BxJu0Z2m5jk",
        "outputId": "13bf2005-cd74-4690-aa17-3f3efd055e19"
      },
      "execution_count": 16,
      "outputs": [
        {
          "output_type": "execute_result",
          "data": {
            "text/plain": [
              "<tf.Tensor: shape=(24000, 2), dtype=float32, numpy=\n",
              "array([[1., 0.],\n",
              "       [1., 0.],\n",
              "       [1., 0.],\n",
              "       ...,\n",
              "       [1., 0.],\n",
              "       [1., 0.],\n",
              "       [0., 1.]], dtype=float32)>"
            ]
          },
          "metadata": {},
          "execution_count": 16
        }
      ]
    },
    {
      "cell_type": "code",
      "source": [
        "data.length.quantile(0.75)"
      ],
      "metadata": {
        "colab": {
          "base_uri": "https://localhost:8080/"
        },
        "id": "WWAPx17_nnjb",
        "outputId": "25f64fd9-ed14-4daf-d3b1-0f3b8d832598"
      },
      "execution_count": 17,
      "outputs": [
        {
          "output_type": "execute_result",
          "data": {
            "text/plain": [
              "31.0"
            ]
          },
          "metadata": {},
          "execution_count": 17
        }
      ]
    },
    {
      "cell_type": "code",
      "source": [
        "del data"
      ],
      "metadata": {
        "id": "6uIveaI51LGQ"
      },
      "execution_count": 18,
      "outputs": []
    },
    {
      "cell_type": "markdown",
      "source": [
        "# Pre-Processing"
      ],
      "metadata": {
        "id": "nPYBBNOlOrkq"
      }
    },
    {
      "cell_type": "code",
      "source": [
        "VOCAB_SIZE = 1000\n",
        "BUFFER_SIZE = 10000\n",
        "BATCH_SIZE = 64"
      ],
      "metadata": {
        "id": "W0bS_ae4nhtb"
      },
      "execution_count": 19,
      "outputs": []
    },
    {
      "cell_type": "code",
      "source": [
        "# init Tokenizer\n",
        "tokenizer = tf.keras.preprocessing.text.Tokenizer(\n",
        "    num_words=VOCAB_SIZE, oov_token=\"<OOV>\"\n",
        ")\n",
        "\n",
        "# fit on data\n",
        "tokenizer.fit_on_texts(train_headline)\n",
        "\n",
        "# generate sequence\n",
        "train_sequence = tokenizer.texts_to_sequences(train_headline)\n",
        "\n",
        "# PAD Sequence\n",
        "train_padded_sequence = tf.keras.preprocessing.sequence.pad_sequences(\n",
        "    train_sequence, maxlen=100, padding='post', truncating='post'\n",
        ")\n",
        "train_padded_sequence"
      ],
      "metadata": {
        "id": "wrU_3Pw8Oqu3",
        "colab": {
          "base_uri": "https://localhost:8080/"
        },
        "outputId": "1d835dbb-a0d6-4ee5-9a04-85877a642f06"
      },
      "execution_count": 20,
      "outputs": [
        {
          "output_type": "execute_result",
          "data": {
            "text/plain": [
              "array([[753,  17,  27, ...,   0,   0,   0],\n",
              "       [185,  24,   6, ...,   0,   0,   0],\n",
              "       [  3, 491,   2, ...,   0,   0,   0],\n",
              "       ...,\n",
              "       [549, 507,   0, ...,   0,   0,   0],\n",
              "       [  5,  13, 306, ...,   0,   0,   0],\n",
              "       [ 17,  20,   6, ...,   0,   0,   0]], dtype=int32)"
            ]
          },
          "metadata": {},
          "execution_count": 20
        }
      ]
    },
    {
      "cell_type": "code",
      "source": [
        "val_sequence = tokenizer.texts_to_sequences(val_headline)\n",
        "val_padded_sequence = tf.keras.preprocessing.sequence.pad_sequences(\n",
        "    val_sequence, maxlen=100, padding='post', truncating='post'\n",
        ")\n",
        "val_padded_sequence"
      ],
      "metadata": {
        "colab": {
          "base_uri": "https://localhost:8080/"
        },
        "id": "SUizj-slPZFk",
        "outputId": "db712f47-5fb2-4b81-84d5-4e357cb01d72"
      },
      "execution_count": 21,
      "outputs": [
        {
          "output_type": "execute_result",
          "data": {
            "text/plain": [
              "array([[ 44, 301,  26, ...,   0,   0,   0],\n",
              "       [  2, 112,  62, ...,   0,   0,   0],\n",
              "       [ 80, 237,   7, ...,   0,   0,   0],\n",
              "       ...,\n",
              "       [ 61,  11, 277, ...,   0,   0,   0],\n",
              "       [388,  30, 577, ...,   0,   0,   0],\n",
              "       [  5,  13,  39, ...,   0,   0,   0]], dtype=int32)"
            ]
          },
          "metadata": {},
          "execution_count": 21
        }
      ]
    },
    {
      "cell_type": "code",
      "source": [
        "tokenizer.num_words"
      ],
      "metadata": {
        "colab": {
          "base_uri": "https://localhost:8080/"
        },
        "id": "aSlTSUUTo8zS",
        "outputId": "0095b8dc-729b-401f-eea3-ea354570113f"
      },
      "execution_count": 22,
      "outputs": [
        {
          "output_type": "execute_result",
          "data": {
            "text/plain": [
              "1000"
            ]
          },
          "metadata": {},
          "execution_count": 22
        }
      ]
    },
    {
      "cell_type": "markdown",
      "source": [
        "# Modeling LSTM"
      ],
      "metadata": {
        "id": "SpicFr16Pc1R"
      }
    },
    {
      "cell_type": "code",
      "source": [
        "lstm_model = tf.keras.Sequential([\n",
        "        Embedding(\n",
        "            input_dim=VOCAB_SIZE,\n",
        "            output_dim=128\n",
        "            ),\n",
        "        Bidirectional(LSTM(64, return_sequences=True)),\n",
        "        Bidirectional(LSTM(128)),\n",
        "        Dense(128, activation='relu'),\n",
        "        Dropout(rate=0.5),\n",
        "        Dense(128, activation='relu'),\n",
        "        Dropout(rate=0.5),\n",
        "        Dense(64, activation='relu'),\n",
        "        Dense(2, activation='softmax')\n",
        "])"
      ],
      "metadata": {
        "id": "IvPkvb82Sy8r"
      },
      "execution_count": 50,
      "outputs": []
    },
    {
      "cell_type": "code",
      "source": [
        "es = EarlyStopping(monitor='val_accuracy', mode='max', verbose=1, patience=3)"
      ],
      "metadata": {
        "id": "QK114meO231U"
      },
      "execution_count": 51,
      "outputs": []
    },
    {
      "cell_type": "code",
      "source": [
        "with tf.device('/GPU:0'):\n",
        "    # Compile\n",
        "    lstm_model.compile(\n",
        "        optimizer='adam',\n",
        "        loss='categorical_crossentropy',\n",
        "        metrics= ['accuracy']\n",
        "    )\n",
        "\n",
        "    # Train\n",
        "    lstm_model.fit(\n",
        "        train_padded_sequence, train_labels,\n",
        "        epochs=100,\n",
        "        steps_per_epoch=500,\n",
        "        validation_data=(val_padded_sequence, val_labels),\n",
        "        validation_steps=50,\n",
        "        callbacks=[es]\n",
        ")"
      ],
      "metadata": {
        "colab": {
          "base_uri": "https://localhost:8080/"
        },
        "id": "tFo_inHWfsry",
        "outputId": "09048a09-3d76-4426-ed05-1333a27717fe"
      },
      "execution_count": 52,
      "outputs": [
        {
          "output_type": "stream",
          "name": "stdout",
          "text": [
            "Epoch 1/100\n",
            "500/500 [==============================] - 38s 55ms/step - loss: 0.3618 - accuracy: 0.8416 - val_loss: 0.2977 - val_accuracy: 0.8773\n",
            "Epoch 2/100\n",
            "500/500 [==============================] - 16s 32ms/step - loss: 0.2884 - accuracy: 0.8823 - val_loss: 0.2868 - val_accuracy: 0.8797\n",
            "Epoch 3/100\n",
            "500/500 [==============================] - 14s 27ms/step - loss: 0.2683 - accuracy: 0.8906 - val_loss: 0.2760 - val_accuracy: 0.8868\n",
            "Epoch 4/100\n",
            "500/500 [==============================] - 13s 26ms/step - loss: 0.2538 - accuracy: 0.8957 - val_loss: 0.2688 - val_accuracy: 0.8888\n",
            "Epoch 5/100\n",
            "500/500 [==============================] - 14s 28ms/step - loss: 0.2420 - accuracy: 0.9019 - val_loss: 0.2664 - val_accuracy: 0.8904\n",
            "Epoch 6/100\n",
            "500/500 [==============================] - 13s 27ms/step - loss: 0.2290 - accuracy: 0.9069 - val_loss: 0.2875 - val_accuracy: 0.8856\n",
            "Epoch 7/100\n",
            "500/500 [==============================] - 14s 27ms/step - loss: 0.2215 - accuracy: 0.9106 - val_loss: 0.2730 - val_accuracy: 0.8867\n",
            "Epoch 8/100\n",
            "500/500 [==============================] - 14s 28ms/step - loss: 0.2093 - accuracy: 0.9163 - val_loss: 0.2680 - val_accuracy: 0.8899\n",
            "Epoch 8: early stopping\n"
          ]
        }
      ]
    },
    {
      "cell_type": "code",
      "source": [
        "lstm_model.summary()"
      ],
      "metadata": {
        "colab": {
          "base_uri": "https://localhost:8080/"
        },
        "id": "8M3xju71j17L",
        "outputId": "2017465f-2005-45f0-fc58-6092754d49e2"
      },
      "execution_count": 53,
      "outputs": [
        {
          "output_type": "stream",
          "name": "stdout",
          "text": [
            "Model: \"sequential_3\"\n",
            "_________________________________________________________________\n",
            " Layer (type)                Output Shape              Param #   \n",
            "=================================================================\n",
            " embedding_3 (Embedding)     (None, None, 128)         128000    \n",
            "                                                                 \n",
            " bidirectional_6 (Bidirectio  (None, None, 128)        98816     \n",
            " nal)                                                            \n",
            "                                                                 \n",
            " bidirectional_7 (Bidirectio  (None, 256)              263168    \n",
            " nal)                                                            \n",
            "                                                                 \n",
            " dense_10 (Dense)            (None, 128)               32896     \n",
            "                                                                 \n",
            " dropout_2 (Dropout)         (None, 128)               0         \n",
            "                                                                 \n",
            " dense_11 (Dense)            (None, 128)               16512     \n",
            "                                                                 \n",
            " dropout_3 (Dropout)         (None, 128)               0         \n",
            "                                                                 \n",
            " dense_12 (Dense)            (None, 64)                8256      \n",
            "                                                                 \n",
            " dense_13 (Dense)            (None, 2)                 130       \n",
            "                                                                 \n",
            "=================================================================\n",
            "Total params: 547,778\n",
            "Trainable params: 547,778\n",
            "Non-trainable params: 0\n",
            "_________________________________________________________________\n"
          ]
        }
      ]
    },
    {
      "cell_type": "code",
      "source": [
        "hist = pd.DataFrame(pd.DataFrame(lstm_model.history.history))\n",
        "hist"
      ],
      "metadata": {
        "colab": {
          "base_uri": "https://localhost:8080/",
          "height": 300
        },
        "id": "1zuJSqm1iDl3",
        "outputId": "0a73503a-8598-422d-f1c4-30ae485d3f85"
      },
      "execution_count": 54,
      "outputs": [
        {
          "output_type": "execute_result",
          "data": {
            "text/plain": [
              "       loss  accuracy  val_loss  val_accuracy\n",
              "0  0.361797  0.841625  0.297670      0.877292\n",
              "1  0.288429  0.882304  0.286796      0.879708\n",
              "2  0.268304  0.890643  0.276012      0.886833\n",
              "3  0.253772  0.895750  0.268792      0.888750\n",
              "4  0.242045  0.901857  0.266361      0.890375\n",
              "5  0.229012  0.906911  0.287504      0.885583\n",
              "6  0.221542  0.910554  0.273025      0.886708\n",
              "7  0.209323  0.916286  0.268040      0.889875"
            ],
            "text/html": [
              "\n",
              "\n",
              "  <div id=\"df-5209f0a6-4c94-489e-959a-de29dfe6b7b9\">\n",
              "    <div class=\"colab-df-container\">\n",
              "      <div>\n",
              "<style scoped>\n",
              "    .dataframe tbody tr th:only-of-type {\n",
              "        vertical-align: middle;\n",
              "    }\n",
              "\n",
              "    .dataframe tbody tr th {\n",
              "        vertical-align: top;\n",
              "    }\n",
              "\n",
              "    .dataframe thead th {\n",
              "        text-align: right;\n",
              "    }\n",
              "</style>\n",
              "<table border=\"1\" class=\"dataframe\">\n",
              "  <thead>\n",
              "    <tr style=\"text-align: right;\">\n",
              "      <th></th>\n",
              "      <th>loss</th>\n",
              "      <th>accuracy</th>\n",
              "      <th>val_loss</th>\n",
              "      <th>val_accuracy</th>\n",
              "    </tr>\n",
              "  </thead>\n",
              "  <tbody>\n",
              "    <tr>\n",
              "      <th>0</th>\n",
              "      <td>0.361797</td>\n",
              "      <td>0.841625</td>\n",
              "      <td>0.297670</td>\n",
              "      <td>0.877292</td>\n",
              "    </tr>\n",
              "    <tr>\n",
              "      <th>1</th>\n",
              "      <td>0.288429</td>\n",
              "      <td>0.882304</td>\n",
              "      <td>0.286796</td>\n",
              "      <td>0.879708</td>\n",
              "    </tr>\n",
              "    <tr>\n",
              "      <th>2</th>\n",
              "      <td>0.268304</td>\n",
              "      <td>0.890643</td>\n",
              "      <td>0.276012</td>\n",
              "      <td>0.886833</td>\n",
              "    </tr>\n",
              "    <tr>\n",
              "      <th>3</th>\n",
              "      <td>0.253772</td>\n",
              "      <td>0.895750</td>\n",
              "      <td>0.268792</td>\n",
              "      <td>0.888750</td>\n",
              "    </tr>\n",
              "    <tr>\n",
              "      <th>4</th>\n",
              "      <td>0.242045</td>\n",
              "      <td>0.901857</td>\n",
              "      <td>0.266361</td>\n",
              "      <td>0.890375</td>\n",
              "    </tr>\n",
              "    <tr>\n",
              "      <th>5</th>\n",
              "      <td>0.229012</td>\n",
              "      <td>0.906911</td>\n",
              "      <td>0.287504</td>\n",
              "      <td>0.885583</td>\n",
              "    </tr>\n",
              "    <tr>\n",
              "      <th>6</th>\n",
              "      <td>0.221542</td>\n",
              "      <td>0.910554</td>\n",
              "      <td>0.273025</td>\n",
              "      <td>0.886708</td>\n",
              "    </tr>\n",
              "    <tr>\n",
              "      <th>7</th>\n",
              "      <td>0.209323</td>\n",
              "      <td>0.916286</td>\n",
              "      <td>0.268040</td>\n",
              "      <td>0.889875</td>\n",
              "    </tr>\n",
              "  </tbody>\n",
              "</table>\n",
              "</div>\n",
              "      <button class=\"colab-df-convert\" onclick=\"convertToInteractive('df-5209f0a6-4c94-489e-959a-de29dfe6b7b9')\"\n",
              "              title=\"Convert this dataframe to an interactive table.\"\n",
              "              style=\"display:none;\">\n",
              "\n",
              "  <svg xmlns=\"http://www.w3.org/2000/svg\" height=\"24px\"viewBox=\"0 0 24 24\"\n",
              "       width=\"24px\">\n",
              "    <path d=\"M0 0h24v24H0V0z\" fill=\"none\"/>\n",
              "    <path d=\"M18.56 5.44l.94 2.06.94-2.06 2.06-.94-2.06-.94-.94-2.06-.94 2.06-2.06.94zm-11 1L8.5 8.5l.94-2.06 2.06-.94-2.06-.94L8.5 2.5l-.94 2.06-2.06.94zm10 10l.94 2.06.94-2.06 2.06-.94-2.06-.94-.94-2.06-.94 2.06-2.06.94z\"/><path d=\"M17.41 7.96l-1.37-1.37c-.4-.4-.92-.59-1.43-.59-.52 0-1.04.2-1.43.59L10.3 9.45l-7.72 7.72c-.78.78-.78 2.05 0 2.83L4 21.41c.39.39.9.59 1.41.59.51 0 1.02-.2 1.41-.59l7.78-7.78 2.81-2.81c.8-.78.8-2.07 0-2.86zM5.41 20L4 18.59l7.72-7.72 1.47 1.35L5.41 20z\"/>\n",
              "  </svg>\n",
              "      </button>\n",
              "\n",
              "\n",
              "\n",
              "    <div id=\"df-b748239b-cf5c-4f5e-91dd-133113fd26ad\">\n",
              "      <button class=\"colab-df-quickchart\" onclick=\"quickchart('df-b748239b-cf5c-4f5e-91dd-133113fd26ad')\"\n",
              "              title=\"Suggest charts.\"\n",
              "              style=\"display:none;\">\n",
              "\n",
              "<svg xmlns=\"http://www.w3.org/2000/svg\" height=\"24px\"viewBox=\"0 0 24 24\"\n",
              "     width=\"24px\">\n",
              "    <g>\n",
              "        <path d=\"M19 3H5c-1.1 0-2 .9-2 2v14c0 1.1.9 2 2 2h14c1.1 0 2-.9 2-2V5c0-1.1-.9-2-2-2zM9 17H7v-7h2v7zm4 0h-2V7h2v10zm4 0h-2v-4h2v4z\"/>\n",
              "    </g>\n",
              "</svg>\n",
              "      </button>\n",
              "    </div>\n",
              "\n",
              "<style>\n",
              "  .colab-df-quickchart {\n",
              "    background-color: #E8F0FE;\n",
              "    border: none;\n",
              "    border-radius: 50%;\n",
              "    cursor: pointer;\n",
              "    display: none;\n",
              "    fill: #1967D2;\n",
              "    height: 32px;\n",
              "    padding: 0 0 0 0;\n",
              "    width: 32px;\n",
              "  }\n",
              "\n",
              "  .colab-df-quickchart:hover {\n",
              "    background-color: #E2EBFA;\n",
              "    box-shadow: 0px 1px 2px rgba(60, 64, 67, 0.3), 0px 1px 3px 1px rgba(60, 64, 67, 0.15);\n",
              "    fill: #174EA6;\n",
              "  }\n",
              "\n",
              "  [theme=dark] .colab-df-quickchart {\n",
              "    background-color: #3B4455;\n",
              "    fill: #D2E3FC;\n",
              "  }\n",
              "\n",
              "  [theme=dark] .colab-df-quickchart:hover {\n",
              "    background-color: #434B5C;\n",
              "    box-shadow: 0px 1px 3px 1px rgba(0, 0, 0, 0.15);\n",
              "    filter: drop-shadow(0px 1px 2px rgba(0, 0, 0, 0.3));\n",
              "    fill: #FFFFFF;\n",
              "  }\n",
              "</style>\n",
              "\n",
              "    <script>\n",
              "      async function quickchart(key) {\n",
              "        const containerElement = document.querySelector('#' + key);\n",
              "        const charts = await google.colab.kernel.invokeFunction(\n",
              "            'suggestCharts', [key], {});\n",
              "      }\n",
              "    </script>\n",
              "\n",
              "      <script>\n",
              "\n",
              "function displayQuickchartButton(domScope) {\n",
              "  let quickchartButtonEl =\n",
              "    domScope.querySelector('#df-b748239b-cf5c-4f5e-91dd-133113fd26ad button.colab-df-quickchart');\n",
              "  quickchartButtonEl.style.display =\n",
              "    google.colab.kernel.accessAllowed ? 'block' : 'none';\n",
              "}\n",
              "\n",
              "        displayQuickchartButton(document);\n",
              "      </script>\n",
              "      <style>\n",
              "    .colab-df-container {\n",
              "      display:flex;\n",
              "      flex-wrap:wrap;\n",
              "      gap: 12px;\n",
              "    }\n",
              "\n",
              "    .colab-df-convert {\n",
              "      background-color: #E8F0FE;\n",
              "      border: none;\n",
              "      border-radius: 50%;\n",
              "      cursor: pointer;\n",
              "      display: none;\n",
              "      fill: #1967D2;\n",
              "      height: 32px;\n",
              "      padding: 0 0 0 0;\n",
              "      width: 32px;\n",
              "    }\n",
              "\n",
              "    .colab-df-convert:hover {\n",
              "      background-color: #E2EBFA;\n",
              "      box-shadow: 0px 1px 2px rgba(60, 64, 67, 0.3), 0px 1px 3px 1px rgba(60, 64, 67, 0.15);\n",
              "      fill: #174EA6;\n",
              "    }\n",
              "\n",
              "    [theme=dark] .colab-df-convert {\n",
              "      background-color: #3B4455;\n",
              "      fill: #D2E3FC;\n",
              "    }\n",
              "\n",
              "    [theme=dark] .colab-df-convert:hover {\n",
              "      background-color: #434B5C;\n",
              "      box-shadow: 0px 1px 3px 1px rgba(0, 0, 0, 0.15);\n",
              "      filter: drop-shadow(0px 1px 2px rgba(0, 0, 0, 0.3));\n",
              "      fill: #FFFFFF;\n",
              "    }\n",
              "  </style>\n",
              "\n",
              "      <script>\n",
              "        const buttonEl =\n",
              "          document.querySelector('#df-5209f0a6-4c94-489e-959a-de29dfe6b7b9 button.colab-df-convert');\n",
              "        buttonEl.style.display =\n",
              "          google.colab.kernel.accessAllowed ? 'block' : 'none';\n",
              "\n",
              "        async function convertToInteractive(key) {\n",
              "          const element = document.querySelector('#df-5209f0a6-4c94-489e-959a-de29dfe6b7b9');\n",
              "          const dataTable =\n",
              "            await google.colab.kernel.invokeFunction('convertToInteractive',\n",
              "                                                     [key], {});\n",
              "          if (!dataTable) return;\n",
              "\n",
              "          const docLinkHtml = 'Like what you see? Visit the ' +\n",
              "            '<a target=\"_blank\" href=https://colab.research.google.com/notebooks/data_table.ipynb>data table notebook</a>'\n",
              "            + ' to learn more about interactive tables.';\n",
              "          element.innerHTML = '';\n",
              "          dataTable['output_type'] = 'display_data';\n",
              "          await google.colab.output.renderOutput(dataTable, element);\n",
              "          const docLink = document.createElement('div');\n",
              "          docLink.innerHTML = docLinkHtml;\n",
              "          element.appendChild(docLink);\n",
              "        }\n",
              "      </script>\n",
              "    </div>\n",
              "  </div>\n"
            ]
          },
          "metadata": {},
          "execution_count": 54
        }
      ]
    },
    {
      "cell_type": "code",
      "source": [
        "hist.describe().T"
      ],
      "metadata": {
        "colab": {
          "base_uri": "https://localhost:8080/",
          "height": 174
        },
        "id": "1WxlGVL37Gmv",
        "outputId": "cbeddf75-95e0-4681-f40e-2f08433da60f"
      },
      "execution_count": 55,
      "outputs": [
        {
          "output_type": "execute_result",
          "data": {
            "text/plain": [
              "              count      mean       std       min       25%       50%  \\\n",
              "loss            8.0  0.259278  0.048704  0.209323  0.227145  0.247908   \n",
              "accuracy        8.0  0.893241  0.023570  0.841625  0.888558  0.898804   \n",
              "val_loss        8.0  0.278025  0.011356  0.266361  0.268604  0.274518   \n",
              "val_accuracy    8.0  0.885641  0.004743  0.877292  0.884115  0.886771   \n",
              "\n",
              "                   75%       max  \n",
              "loss          0.273336  0.361797  \n",
              "accuracy      0.907821  0.916286  \n",
              "val_loss      0.286973  0.297670  \n",
              "val_accuracy  0.889031  0.890375  "
            ],
            "text/html": [
              "\n",
              "\n",
              "  <div id=\"df-547ef6fe-b649-4115-b4bb-4d71e82ffad2\">\n",
              "    <div class=\"colab-df-container\">\n",
              "      <div>\n",
              "<style scoped>\n",
              "    .dataframe tbody tr th:only-of-type {\n",
              "        vertical-align: middle;\n",
              "    }\n",
              "\n",
              "    .dataframe tbody tr th {\n",
              "        vertical-align: top;\n",
              "    }\n",
              "\n",
              "    .dataframe thead th {\n",
              "        text-align: right;\n",
              "    }\n",
              "</style>\n",
              "<table border=\"1\" class=\"dataframe\">\n",
              "  <thead>\n",
              "    <tr style=\"text-align: right;\">\n",
              "      <th></th>\n",
              "      <th>count</th>\n",
              "      <th>mean</th>\n",
              "      <th>std</th>\n",
              "      <th>min</th>\n",
              "      <th>25%</th>\n",
              "      <th>50%</th>\n",
              "      <th>75%</th>\n",
              "      <th>max</th>\n",
              "    </tr>\n",
              "  </thead>\n",
              "  <tbody>\n",
              "    <tr>\n",
              "      <th>loss</th>\n",
              "      <td>8.0</td>\n",
              "      <td>0.259278</td>\n",
              "      <td>0.048704</td>\n",
              "      <td>0.209323</td>\n",
              "      <td>0.227145</td>\n",
              "      <td>0.247908</td>\n",
              "      <td>0.273336</td>\n",
              "      <td>0.361797</td>\n",
              "    </tr>\n",
              "    <tr>\n",
              "      <th>accuracy</th>\n",
              "      <td>8.0</td>\n",
              "      <td>0.893241</td>\n",
              "      <td>0.023570</td>\n",
              "      <td>0.841625</td>\n",
              "      <td>0.888558</td>\n",
              "      <td>0.898804</td>\n",
              "      <td>0.907821</td>\n",
              "      <td>0.916286</td>\n",
              "    </tr>\n",
              "    <tr>\n",
              "      <th>val_loss</th>\n",
              "      <td>8.0</td>\n",
              "      <td>0.278025</td>\n",
              "      <td>0.011356</td>\n",
              "      <td>0.266361</td>\n",
              "      <td>0.268604</td>\n",
              "      <td>0.274518</td>\n",
              "      <td>0.286973</td>\n",
              "      <td>0.297670</td>\n",
              "    </tr>\n",
              "    <tr>\n",
              "      <th>val_accuracy</th>\n",
              "      <td>8.0</td>\n",
              "      <td>0.885641</td>\n",
              "      <td>0.004743</td>\n",
              "      <td>0.877292</td>\n",
              "      <td>0.884115</td>\n",
              "      <td>0.886771</td>\n",
              "      <td>0.889031</td>\n",
              "      <td>0.890375</td>\n",
              "    </tr>\n",
              "  </tbody>\n",
              "</table>\n",
              "</div>\n",
              "      <button class=\"colab-df-convert\" onclick=\"convertToInteractive('df-547ef6fe-b649-4115-b4bb-4d71e82ffad2')\"\n",
              "              title=\"Convert this dataframe to an interactive table.\"\n",
              "              style=\"display:none;\">\n",
              "\n",
              "  <svg xmlns=\"http://www.w3.org/2000/svg\" height=\"24px\"viewBox=\"0 0 24 24\"\n",
              "       width=\"24px\">\n",
              "    <path d=\"M0 0h24v24H0V0z\" fill=\"none\"/>\n",
              "    <path d=\"M18.56 5.44l.94 2.06.94-2.06 2.06-.94-2.06-.94-.94-2.06-.94 2.06-2.06.94zm-11 1L8.5 8.5l.94-2.06 2.06-.94-2.06-.94L8.5 2.5l-.94 2.06-2.06.94zm10 10l.94 2.06.94-2.06 2.06-.94-2.06-.94-.94-2.06-.94 2.06-2.06.94z\"/><path d=\"M17.41 7.96l-1.37-1.37c-.4-.4-.92-.59-1.43-.59-.52 0-1.04.2-1.43.59L10.3 9.45l-7.72 7.72c-.78.78-.78 2.05 0 2.83L4 21.41c.39.39.9.59 1.41.59.51 0 1.02-.2 1.41-.59l7.78-7.78 2.81-2.81c.8-.78.8-2.07 0-2.86zM5.41 20L4 18.59l7.72-7.72 1.47 1.35L5.41 20z\"/>\n",
              "  </svg>\n",
              "      </button>\n",
              "\n",
              "\n",
              "\n",
              "    <div id=\"df-a625fdd2-702a-4922-9199-b970722c4864\">\n",
              "      <button class=\"colab-df-quickchart\" onclick=\"quickchart('df-a625fdd2-702a-4922-9199-b970722c4864')\"\n",
              "              title=\"Suggest charts.\"\n",
              "              style=\"display:none;\">\n",
              "\n",
              "<svg xmlns=\"http://www.w3.org/2000/svg\" height=\"24px\"viewBox=\"0 0 24 24\"\n",
              "     width=\"24px\">\n",
              "    <g>\n",
              "        <path d=\"M19 3H5c-1.1 0-2 .9-2 2v14c0 1.1.9 2 2 2h14c1.1 0 2-.9 2-2V5c0-1.1-.9-2-2-2zM9 17H7v-7h2v7zm4 0h-2V7h2v10zm4 0h-2v-4h2v4z\"/>\n",
              "    </g>\n",
              "</svg>\n",
              "      </button>\n",
              "    </div>\n",
              "\n",
              "<style>\n",
              "  .colab-df-quickchart {\n",
              "    background-color: #E8F0FE;\n",
              "    border: none;\n",
              "    border-radius: 50%;\n",
              "    cursor: pointer;\n",
              "    display: none;\n",
              "    fill: #1967D2;\n",
              "    height: 32px;\n",
              "    padding: 0 0 0 0;\n",
              "    width: 32px;\n",
              "  }\n",
              "\n",
              "  .colab-df-quickchart:hover {\n",
              "    background-color: #E2EBFA;\n",
              "    box-shadow: 0px 1px 2px rgba(60, 64, 67, 0.3), 0px 1px 3px 1px rgba(60, 64, 67, 0.15);\n",
              "    fill: #174EA6;\n",
              "  }\n",
              "\n",
              "  [theme=dark] .colab-df-quickchart {\n",
              "    background-color: #3B4455;\n",
              "    fill: #D2E3FC;\n",
              "  }\n",
              "\n",
              "  [theme=dark] .colab-df-quickchart:hover {\n",
              "    background-color: #434B5C;\n",
              "    box-shadow: 0px 1px 3px 1px rgba(0, 0, 0, 0.15);\n",
              "    filter: drop-shadow(0px 1px 2px rgba(0, 0, 0, 0.3));\n",
              "    fill: #FFFFFF;\n",
              "  }\n",
              "</style>\n",
              "\n",
              "    <script>\n",
              "      async function quickchart(key) {\n",
              "        const containerElement = document.querySelector('#' + key);\n",
              "        const charts = await google.colab.kernel.invokeFunction(\n",
              "            'suggestCharts', [key], {});\n",
              "      }\n",
              "    </script>\n",
              "\n",
              "      <script>\n",
              "\n",
              "function displayQuickchartButton(domScope) {\n",
              "  let quickchartButtonEl =\n",
              "    domScope.querySelector('#df-a625fdd2-702a-4922-9199-b970722c4864 button.colab-df-quickchart');\n",
              "  quickchartButtonEl.style.display =\n",
              "    google.colab.kernel.accessAllowed ? 'block' : 'none';\n",
              "}\n",
              "\n",
              "        displayQuickchartButton(document);\n",
              "      </script>\n",
              "      <style>\n",
              "    .colab-df-container {\n",
              "      display:flex;\n",
              "      flex-wrap:wrap;\n",
              "      gap: 12px;\n",
              "    }\n",
              "\n",
              "    .colab-df-convert {\n",
              "      background-color: #E8F0FE;\n",
              "      border: none;\n",
              "      border-radius: 50%;\n",
              "      cursor: pointer;\n",
              "      display: none;\n",
              "      fill: #1967D2;\n",
              "      height: 32px;\n",
              "      padding: 0 0 0 0;\n",
              "      width: 32px;\n",
              "    }\n",
              "\n",
              "    .colab-df-convert:hover {\n",
              "      background-color: #E2EBFA;\n",
              "      box-shadow: 0px 1px 2px rgba(60, 64, 67, 0.3), 0px 1px 3px 1px rgba(60, 64, 67, 0.15);\n",
              "      fill: #174EA6;\n",
              "    }\n",
              "\n",
              "    [theme=dark] .colab-df-convert {\n",
              "      background-color: #3B4455;\n",
              "      fill: #D2E3FC;\n",
              "    }\n",
              "\n",
              "    [theme=dark] .colab-df-convert:hover {\n",
              "      background-color: #434B5C;\n",
              "      box-shadow: 0px 1px 3px 1px rgba(0, 0, 0, 0.15);\n",
              "      filter: drop-shadow(0px 1px 2px rgba(0, 0, 0, 0.3));\n",
              "      fill: #FFFFFF;\n",
              "    }\n",
              "  </style>\n",
              "\n",
              "      <script>\n",
              "        const buttonEl =\n",
              "          document.querySelector('#df-547ef6fe-b649-4115-b4bb-4d71e82ffad2 button.colab-df-convert');\n",
              "        buttonEl.style.display =\n",
              "          google.colab.kernel.accessAllowed ? 'block' : 'none';\n",
              "\n",
              "        async function convertToInteractive(key) {\n",
              "          const element = document.querySelector('#df-547ef6fe-b649-4115-b4bb-4d71e82ffad2');\n",
              "          const dataTable =\n",
              "            await google.colab.kernel.invokeFunction('convertToInteractive',\n",
              "                                                     [key], {});\n",
              "          if (!dataTable) return;\n",
              "\n",
              "          const docLinkHtml = 'Like what you see? Visit the ' +\n",
              "            '<a target=\"_blank\" href=https://colab.research.google.com/notebooks/data_table.ipynb>data table notebook</a>'\n",
              "            + ' to learn more about interactive tables.';\n",
              "          element.innerHTML = '';\n",
              "          dataTable['output_type'] = 'display_data';\n",
              "          await google.colab.output.renderOutput(dataTable, element);\n",
              "          const docLink = document.createElement('div');\n",
              "          docLink.innerHTML = docLinkHtml;\n",
              "          element.appendChild(docLink);\n",
              "        }\n",
              "      </script>\n",
              "    </div>\n",
              "  </div>\n"
            ]
          },
          "metadata": {},
          "execution_count": 55
        }
      ]
    },
    {
      "cell_type": "code",
      "source": [
        "hist.to_csv('/content/drive/MyDrive/Colab Notebooks/amazon/trainHistory.csv')"
      ],
      "metadata": {
        "id": "ndgxgjWx7TcO"
      },
      "execution_count": 56,
      "outputs": []
    },
    {
      "cell_type": "code",
      "source": [
        "sns.set_style(style='darkgrid')\n",
        "plt.plot(hist.index, hist.accuracy, color='darkorange')\n",
        "plt.plot(hist.index, hist.val_accuracy, color='lightgreen')\n",
        "plt.xlabel(\"Epochs\")\n",
        "plt.ylabel(\"Accuracy\")\n",
        "plt.title(\"Accuracy Graph\")\n",
        "plt.show()"
      ],
      "metadata": {
        "colab": {
          "base_uri": "https://localhost:8080/",
          "height": 472
        },
        "id": "oioQ3lFn7lJE",
        "outputId": "b3032637-b39c-46f3-ecf5-354fb58f2b20"
      },
      "execution_count": 61,
      "outputs": [
        {
          "output_type": "display_data",
          "data": {
            "text/plain": [
              "<Figure size 640x480 with 1 Axes>"
            ],
            "image/png": "[encoded data removed]"
          },
          "metadata": {}
        }
      ]
    },
    {
      "cell_type": "code",
      "source": [
        "sns.set_style(style='darkgrid')\n",
        "plt.plot(hist.index, hist.loss, color='darkorange')\n",
        "plt.plot(hist.index, hist.val_loss, color='lightgreen')\n",
        "plt.xlabel(\"Epochs\")\n",
        "plt.ylabel(\"Loss\")\n",
        "plt.title(\"Loss Graph\")\n",
        "plt.show()"
      ],
      "metadata": {
        "colab": {
          "base_uri": "https://localhost:8080/",
          "height": 472
        },
        "id": "ee1br5cu9vfE",
        "outputId": "f30cbd43-2072-4323-a319-295f3cc2e9df"
      },
      "execution_count": 62,
      "outputs": [
        {
          "output_type": "display_data",
          "data": {
            "text/plain": [
              "<Figure size 640x480 with 1 Axes>"
            ],
            "image/png": "[encoded data removed]"
          },
          "metadata": {}
        }
      ]
    },
    {
      "cell_type": "code",
      "source": [],
      "metadata": {
        "id": "vpKDonyW-Na9"
      },
      "execution_count": null,
      "outputs": []
    },
    {
      "cell_type": "code",
      "source": [
        "lstm_model.save('/content/drive/MyDrive/Colab Notebooks/amazon/model/my_model.keras')"
      ],
      "metadata": {
        "id": "oXqR-XN_Akkc"
      },
      "execution_count": 80,
      "outputs": []
    }
  ]
}